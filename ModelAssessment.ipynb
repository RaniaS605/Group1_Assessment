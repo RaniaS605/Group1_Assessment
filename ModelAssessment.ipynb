{
 "cells": [
  {
   "cell_type": "markdown",
   "metadata": {},
   "source": [
    "# Assessment 1"
   ]
  },
  {
   "cell_type": "markdown",
   "metadata": {},
   "source": [
    "## Group 1 - 41189 Human Complex Systems"
   ]
  },
  {
   "cell_type": "markdown",
   "metadata": {},
   "source": [
    "### Introduction\n",
    "\n",
    "Every four years on the first Tuesday in November the presidential election in United States takes place. US citizens who have registered to vote will indirectly elect the next President and Vice President. With the U.S being the world’s largest economy and a military superpower, the elections affect the financial markets on a global scale. Around 138 million Americans voted in the 2016 election and this only makes up 58.1% of the voting-eligible population. Those individuals who have not voted in the past, have still been impacted by the decisions made once the election has ended. With the elections having such drastic influences on both a national and global scale, it is crucial that in the US voting for the elections is made compulsory for all those who are eligible. The Rational Actor model, The Network model and the Signalling model can be used to understand the logic and facts around voter participation in the past and use this information to draw scenarios on what may occur in the upcoming elections. Using conceptual model thinking and the Australian election system as a reference, it is crucial that all individuals understand the benefits of voting in a presidential election and the negatives of not voting.  "
   ]
  },
  {
   "cell_type": "markdown",
   "metadata": {},
   "source": [
    "### Context, Background Information, Justification \n",
    "\n",
    "The US presidential elections are one of the most political and controversial topics, as the impact of these elections, has a global outcome, as it impacts politics, economies and society. However, even though the outcome of these elections has a high impact, the US does not make voting compulsory. In the 2016 elections only 58.1% of the population voted. This information about these elections is vast as media coverage, statistics, scholarly articles, individuals from different background their opinions are recorded during the election period and the presidential term.  \n",
    "\n",
    "The stakeholders within the US elections are the media, the government, US citizens, other countries, election authority, candidate and campaigns. "
   ]
  },
  {
   "cell_type": "code",
   "execution_count": null,
   "metadata": {},
   "outputs": [],
   "source": []
  },
  {
   "cell_type": "code",
   "execution_count": null,
   "metadata": {},
   "outputs": [],
   "source": []
  },
  {
   "cell_type": "code",
   "execution_count": null,
   "metadata": {},
   "outputs": [],
   "source": []
  },
  {
   "cell_type": "code",
   "execution_count": null,
   "metadata": {},
   "outputs": [],
   "source": []
  },
  {
   "cell_type": "code",
   "execution_count": 1,
   "metadata": {},
   "outputs": [],
   "source": [
    "import numpy as np \n",
    "import pandas as pd\n",
    "import os\n",
    "import numpy as np\n",
    "\n",
    "from matplotlib import pyplot as plt\n",
    "%matplotlib inline\n",
    "import csv\n",
    "import seaborn as sns"
   ]
  },
  {
   "cell_type": "code",
   "execution_count": 2,
   "metadata": {
    "scrolled": true
   },
   "outputs": [],
   "source": [
    "dfa = \"election_fixed.csv\""
   ]
  },
  {
   "cell_type": "code",
   "execution_count": 3,
   "metadata": {},
   "outputs": [
    {
     "name": "stdout",
     "output_type": "stream",
     "text": [
      "election_fixed.csv\n"
     ]
    }
   ],
   "source": [
    "print(dfa)"
   ]
  },
  {
   "cell_type": "code",
   "execution_count": 4,
   "metadata": {},
   "outputs": [],
   "source": [
    "df=pd.read_csv(dfa)"
   ]
  },
  {
   "cell_type": "code",
   "execution_count": 5,
   "metadata": {},
   "outputs": [],
   "source": [
    "data = pd.read_csv('election_fixed.csv', error_bad_lines= False )"
   ]
  },
  {
   "cell_type": "code",
   "execution_count": 6,
   "metadata": {},
   "outputs": [
    {
     "data": {
      "text/html": [
       "<div>\n",
       "<style scoped>\n",
       "    .dataframe tbody tr th:only-of-type {\n",
       "        vertical-align: middle;\n",
       "    }\n",
       "\n",
       "    .dataframe tbody tr th {\n",
       "        vertical-align: top;\n",
       "    }\n",
       "\n",
       "    .dataframe thead th {\n",
       "        text-align: right;\n",
       "    }\n",
       "</style>\n",
       "<table border=\"1\" class=\"dataframe\">\n",
       "  <thead>\n",
       "    <tr style=\"text-align: right;\">\n",
       "      <th></th>\n",
       "      <th>State</th>\n",
       "      <th>ST</th>\n",
       "      <th>Fips</th>\n",
       "      <th>County</th>\n",
       "      <th>Precincts</th>\n",
       "      <th>Votes</th>\n",
       "      <th>Democrats 08 (Votes)</th>\n",
       "      <th>Democrats 12 (Votes)</th>\n",
       "      <th>Republicans 08 (Votes)</th>\n",
       "      <th>Republicans 12 (Votes)</th>\n",
       "      <th>...</th>\n",
       "      <th>total08</th>\n",
       "      <th>total12</th>\n",
       "      <th>other08</th>\n",
       "      <th>other12</th>\n",
       "      <th>Other12 Frac</th>\n",
       "      <th>Other08 Frac</th>\n",
       "      <th>Rep12 Frac2</th>\n",
       "      <th>Rep08 Frac2</th>\n",
       "      <th>Dem12 Frac2</th>\n",
       "      <th>Dem08 Frac2</th>\n",
       "    </tr>\n",
       "  </thead>\n",
       "  <tbody>\n",
       "    <tr>\n",
       "      <th>0</th>\n",
       "      <td>Alaska</td>\n",
       "      <td>AK</td>\n",
       "      <td>2100</td>\n",
       "      <td>Haines Borough, Alaska</td>\n",
       "      <td>NaN</td>\n",
       "      <td>NaN</td>\n",
       "      <td>NaN</td>\n",
       "      <td>NaN</td>\n",
       "      <td>NaN</td>\n",
       "      <td>NaN</td>\n",
       "      <td>...</td>\n",
       "      <td>NaN</td>\n",
       "      <td>NaN</td>\n",
       "      <td>NaN</td>\n",
       "      <td>NaN</td>\n",
       "      <td>NaN</td>\n",
       "      <td>NaN</td>\n",
       "      <td>NaN</td>\n",
       "      <td>NaN</td>\n",
       "      <td>NaN</td>\n",
       "      <td>NaN</td>\n",
       "    </tr>\n",
       "    <tr>\n",
       "      <th>1</th>\n",
       "      <td>Nebraska</td>\n",
       "      <td>NE</td>\n",
       "      <td>31145</td>\n",
       "      <td>Red Willow County, Nebraska</td>\n",
       "      <td>13.0</td>\n",
       "      <td>5061.0</td>\n",
       "      <td>1216.0</td>\n",
       "      <td>952.0</td>\n",
       "      <td>3735.0</td>\n",
       "      <td>3891.0</td>\n",
       "      <td>...</td>\n",
       "      <td>5044.0</td>\n",
       "      <td>4936.0</td>\n",
       "      <td>93.0</td>\n",
       "      <td>93.0</td>\n",
       "      <td>0.018841</td>\n",
       "      <td>0.018438</td>\n",
       "      <td>0.803428</td>\n",
       "      <td>0.754393</td>\n",
       "      <td>0.196572</td>\n",
       "      <td>0.245607</td>\n",
       "    </tr>\n",
       "    <tr>\n",
       "      <th>2</th>\n",
       "      <td>California</td>\n",
       "      <td>CA</td>\n",
       "      <td>6015</td>\n",
       "      <td>Del Norte County, California</td>\n",
       "      <td>18.0</td>\n",
       "      <td>9361.0</td>\n",
       "      <td>4323.0</td>\n",
       "      <td>3791.0</td>\n",
       "      <td>4967.0</td>\n",
       "      <td>4614.0</td>\n",
       "      <td>...</td>\n",
       "      <td>9531.0</td>\n",
       "      <td>8770.0</td>\n",
       "      <td>241.0</td>\n",
       "      <td>365.0</td>\n",
       "      <td>0.041619</td>\n",
       "      <td>0.025286</td>\n",
       "      <td>0.548959</td>\n",
       "      <td>0.534661</td>\n",
       "      <td>0.451041</td>\n",
       "      <td>0.465339</td>\n",
       "    </tr>\n",
       "    <tr>\n",
       "      <th>3</th>\n",
       "      <td>Florida</td>\n",
       "      <td>FL</td>\n",
       "      <td>12031</td>\n",
       "      <td>Duval County, Florida</td>\n",
       "      <td>199.0</td>\n",
       "      <td>428734.0</td>\n",
       "      <td>202618.0</td>\n",
       "      <td>196737.0</td>\n",
       "      <td>210537.0</td>\n",
       "      <td>211615.0</td>\n",
       "      <td>...</td>\n",
       "      <td>415761.0</td>\n",
       "      <td>411848.0</td>\n",
       "      <td>2606.0</td>\n",
       "      <td>3496.0</td>\n",
       "      <td>0.008489</td>\n",
       "      <td>0.006268</td>\n",
       "      <td>0.518217</td>\n",
       "      <td>0.509584</td>\n",
       "      <td>0.481783</td>\n",
       "      <td>0.490416</td>\n",
       "    </tr>\n",
       "    <tr>\n",
       "      <th>4</th>\n",
       "      <td>Kansas</td>\n",
       "      <td>KS</td>\n",
       "      <td>20053</td>\n",
       "      <td>Ellsworth County, Kansas</td>\n",
       "      <td>25.0</td>\n",
       "      <td>2626.0</td>\n",
       "      <td>851.0</td>\n",
       "      <td>702.0</td>\n",
       "      <td>2021.0</td>\n",
       "      <td>1930.0</td>\n",
       "      <td>...</td>\n",
       "      <td>2938.0</td>\n",
       "      <td>2712.0</td>\n",
       "      <td>66.0</td>\n",
       "      <td>80.0</td>\n",
       "      <td>0.029499</td>\n",
       "      <td>0.022464</td>\n",
       "      <td>0.733283</td>\n",
       "      <td>0.703691</td>\n",
       "      <td>0.266717</td>\n",
       "      <td>0.296309</td>\n",
       "    </tr>\n",
       "  </tbody>\n",
       "</table>\n",
       "<p>5 rows × 159 columns</p>\n",
       "</div>"
      ],
      "text/plain": [
       "        State  ST   Fips                        County  Precincts     Votes  \\\n",
       "0      Alaska  AK   2100        Haines Borough, Alaska        NaN       NaN   \n",
       "1    Nebraska  NE  31145   Red Willow County, Nebraska       13.0    5061.0   \n",
       "2  California  CA   6015  Del Norte County, California       18.0    9361.0   \n",
       "3     Florida  FL  12031         Duval County, Florida      199.0  428734.0   \n",
       "4      Kansas  KS  20053      Ellsworth County, Kansas       25.0    2626.0   \n",
       "\n",
       "   Democrats 08 (Votes)  Democrats 12 (Votes)  Republicans 08 (Votes)  \\\n",
       "0                   NaN                   NaN                     NaN   \n",
       "1                1216.0                 952.0                  3735.0   \n",
       "2                4323.0                3791.0                  4967.0   \n",
       "3              202618.0              196737.0                210537.0   \n",
       "4                 851.0                 702.0                  2021.0   \n",
       "\n",
       "   Republicans 12 (Votes)  ...   total08   total12  other08  other12  \\\n",
       "0                     NaN  ...       NaN       NaN      NaN      NaN   \n",
       "1                  3891.0  ...    5044.0    4936.0     93.0     93.0   \n",
       "2                  4614.0  ...    9531.0    8770.0    241.0    365.0   \n",
       "3                211615.0  ...  415761.0  411848.0   2606.0   3496.0   \n",
       "4                  1930.0  ...    2938.0    2712.0     66.0     80.0   \n",
       "\n",
       "   Other12 Frac  Other08 Frac  Rep12 Frac2  Rep08 Frac2  Dem12 Frac2  \\\n",
       "0           NaN           NaN          NaN          NaN          NaN   \n",
       "1      0.018841      0.018438     0.803428     0.754393     0.196572   \n",
       "2      0.041619      0.025286     0.548959     0.534661     0.451041   \n",
       "3      0.008489      0.006268     0.518217     0.509584     0.481783   \n",
       "4      0.029499      0.022464     0.733283     0.703691     0.266717   \n",
       "\n",
       "   Dem08 Frac2  \n",
       "0          NaN  \n",
       "1     0.245607  \n",
       "2     0.465339  \n",
       "3     0.490416  \n",
       "4     0.296309  \n",
       "\n",
       "[5 rows x 159 columns]"
      ]
     },
     "execution_count": 6,
     "metadata": {},
     "output_type": "execute_result"
    }
   ],
   "source": [
    "data.head()"
   ]
  },
  {
   "cell_type": "code",
   "execution_count": 41,
   "metadata": {},
   "outputs": [
    {
     "name": "stdout",
     "output_type": "stream",
     "text": [
      "The mean votes for Decomcratcs in 2008: 22292.40231362468\n",
      "The mean votes for Decomcratcs in 2012: 21138.449550128535\n",
      "The mean votes for Decomcratcs in 2016: 31.679286060541095\n"
     ]
    }
   ],
   "source": [
    "print(\"The mean votes for Decomcratcs in 2008:\", data['Democrats 08 (Votes)'].mean())\n",
    "print(\"The mean votes for Decomcratcs in 2012:\", data['Democrats 12 (Votes)'].mean())\n",
    "print(\"The mean votes for Decomcratcs in 2016:\", data['Democrats 2016'].mean())"
   ]
  },
  {
   "cell_type": "code",
   "execution_count": 42,
   "metadata": {},
   "outputs": [
    {
     "name": "stdout",
     "output_type": "stream",
     "text": [
      "The median age of people that voted: 39.9\n"
     ]
    }
   ],
   "source": [
    "print(\"The median age of people that voted:\", data['Median Age'].median())\n"
   ]
  },
  {
   "cell_type": "markdown",
   "metadata": {},
   "source": [
    "The median age for people that voted in ....."
   ]
  },
  {
   "cell_type": "code",
   "execution_count": 32,
   "metadata": {},
   "outputs": [],
   "source": [
    "result = data"
   ]
  },
  {
   "cell_type": "markdown",
   "metadata": {},
   "source": [
    "result['Votes16 Trumpd']\n",
    "sns.lmplot(x='Median Age', y='Poverty.Rate.below.federal.poverty.threshold', data=result,\n",
    "           fit_reg=False, # No regression line\n",
    "           hue='Votes16 Trumpd')"
   ]
  },
  {
   "cell_type": "code",
   "execution_count": null,
   "metadata": {},
   "outputs": [],
   "source": []
  }
 ],
 "metadata": {
  "kernelspec": {
   "display_name": "Python 3",
   "language": "python",
   "name": "python3"
  },
  "language_info": {
   "codemirror_mode": {
    "name": "ipython",
    "version": 3
   },
   "file_extension": ".py",
   "mimetype": "text/x-python",
   "name": "python",
   "nbconvert_exporter": "python",
   "pygments_lexer": "ipython3",
   "version": "3.7.3"
  }
 },
 "nbformat": 4,
 "nbformat_minor": 4
}
