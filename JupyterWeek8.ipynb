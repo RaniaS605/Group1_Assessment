{
 "cells": [
  {
   "cell_type": "markdown",
   "metadata": {},
   "source": [
    "# Week 8 - Pre Submission"
   ]
  },
  {
   "cell_type": "markdown",
   "metadata": {},
   "source": [
    "### Group 1 - Human-Centred Complex Systems "
   ]
  },
  {
   "cell_type": "markdown",
   "metadata": {},
   "source": [
    "#### Introduction"
   ]
  },
  {
   "cell_type": "markdown",
   "metadata": {},
   "source": [
    "Every four years on the first Tuesday in November the presidential election in United States takes place. US citizens who have registered to vote will indirectly elect the next President and Vice President. With the U.S being the world’s largest economy and a military superpower, the elections affect the financial markets on a global scale. Around 138 million Americans voted in the 2016 election and this only makes up 58.1% of the voting-eligible population. Those individuals who have not voted in the past, have still been impacted by the decisions made once the election has ended. With the elections having such drastic influences on both a national and global scale, it is crucial that in the US voting for the elections is made compulsory for all those who are eligible. The Rational Actor model, The Network model and the Signalling model can be used to understand the logic and facts around voter participation in the past and use this information to draw scenarios on what may occur in the upcoming elections. Using conceptual model thinking and the Australian election system as a reference, it is crucial that all individuals understand the benefits of voting in a presidential election and the negatives of not voting.  "
   ]
  },
  {
   "cell_type": "markdown",
   "metadata": {},
   "source": [
    "#### Context, background information, justification "
   ]
  },
  {
   "cell_type": "markdown",
   "metadata": {},
   "source": [
    "The US presidential elections are one of the most political and controversial topics, as the impact of these elections, has a global outcome, as it impacts politics, economies and society. However, even though the outcome of these elections has a high impact, the US does not make voting compulsory. In the 2016 elections only 58.1% of the population voted. This information about these elections is vast as media coverage, statistics, scholarly articles, individuals from different background their opinions are recorded during the election period and the presidential term.  "
   ]
  },
  {
   "cell_type": "markdown",
   "metadata": {},
   "source": [
    "The stakeholders within the US elections are the media, the government, US citizens, other countries, election authority, candidate and campaigns. "
   ]
  },
  {
   "cell_type": "markdown",
   "metadata": {},
   "source": [
    "![](Image1.png)\n",
    "Figure 1 (Polyas, 2020) "
   ]
  },
  {
   "cell_type": "markdown",
   "metadata": {},
   "source": [
    "As the US does not make voting compulsory information that is circulated around this period does impact if individuals will vote. However, states within the US have made it difficult for citizens to vote as they do not offer a variety of polling locations, in remote or high-density areas. This results in long wait times and driving out of rural areas to get to polling location.  \n",
    "\n",
    "The US also has a complex issue with race, ethnicity, low income, lack of transport and lack of rights. These are issues that prevent individuals to vote, even if they can. If voting was made compulsory within the US these are issues that they face currently, would need to be addressed as these are factors that prevent voting. \n",
    "\n",
    "The current models that are being undertaken in the US are forecasting models with the aim to predict the chance of winning in the Presidential elections. These are forecasting maps that are used to predict the possible outcome throughout the election process. "
   ]
  },
  {
   "cell_type": "markdown",
   "metadata": {},
   "source": [
    "#### Rational Actor Model  "
   ]
  },
  {
   "cell_type": "markdown",
   "metadata": {},
   "source": [
    "The rational actor model is based on the rational choice theory which assumes the primary decision marker is a rational person who can be relied on to make informed, calculated decisions that maximise value and benefits. The rational actor model is used by many historians to analyse past political decisions, to understand the rationale behind particular choices and whether there were any other influences that led to the result. Hence the rational actor model is also known as the ‘decision making tool’ as it provides a way of understanding human behaviour and is used widely in foreign policy analysis. There is also a  common belief that all humans that take part in the voting process are capable of making consistent choices.  \n",
    "\n",
    "With the upcoming US Presidential elections, it is quite evident that the United States have a problem with the number of citizens who take part in their voting system. Using the four main steps in the rational actor model a thorough analysis need to be conducted on the positives and negatives driven from increasing the participation rate in the US presidential elections.  \n",
    "\n",
    "Identify the problem: The participation rate in the US presidential elections is low because taking part in the voting process is not compulsory for eligible Americans. \n",
    "\n",
    "Define desired outcomes: A significant increase in the participation rate and analysis if this would lead to a decrease in disputes and a better economy. \n",
    "\n",
    "Evaluate the consequences of the changes: The increase in cost and maintenance. \n",
    "\n",
    "Make the most rational decision to maximise beneficial outcomes: Have a look at what other countries are doing and their success rate. For instance, in Australia voting is compulsory for all Australian Citizens. \n",
    "\n",
    "We have also seen political scientists use the rational actor model as a means to conduct economically budgeting for the nation or presidential election budgeting. The basic assumption of rational choice is that political members rationally seek to maximise their self-interest. Holding power, being elected or re-elected is central to political self-interest. "
   ]
  },
  {
   "cell_type": "markdown",
   "metadata": {},
   "source": [
    "![](Image2.png)\n",
    "Figure 2 (Statista, 2016) "
   ]
  },
  {
   "cell_type": "markdown",
   "metadata": {},
   "source": [
    "#### Network Model-Relationships "
   ]
  },
  {
   "cell_type": "markdown",
   "metadata": {},
   "source": [
    "Network models can reveal how a nation’s politics evolve over a period. Every country, especially the US, has undergone a radical political transformation throughout decades. Networks can be created from the US voting data provided. People can be represented as nodes and edges in the network model, to display voting similarities and differences. The USA itself is comprised of a multi-party-political system. Just like Australia, they have 2 major parties that everyone knows: Democrat and Republican and smaller parties that no one hears that much about. This way, people can expect a wide range of ideas from different viewpoints.  \n",
    "\n",
    "People with similar voting patterns are viewed as having similar views and interests and so they can be connected in a political network. Since politics is an overall dynamic and complex system, it makes sense to use a network model alongside others. This type of model can also be applied to social situations-since politics concerns society very much as they are the ones that govern and enact laws that affect our day to day lives, and individuals themselves are therefore organised in a complex manner. These networks can show specific relationships between a nation and her people, individual states and their inhabitants, and the individuals who attend civic organisations and vote e.g. church, school etc.  \n",
    "\n",
    "Political networks have always existed, as they do correlate towards the structural changes in socio-political systems-and this also affects what policies end up passing, particularly election laws. We can see from the tumultuous years following the 2016 US election that the American society has become increasingly fragmented over the alleged “rigged” voting system. There is a lot of confusion about there being an electoral college that decides who will be President, rather than the popular vote.  \n",
    "\n",
    "There is also further confusion for the people who didn’t vote in the election either due to personal choice, or lack of proper resources and/or they find themselves completely shut out of the entire political process and societal structure of the nation. Therefore, it’d be a bit hard to connect them into a political network. However, everyone is needed to vote in elections and have a voice, and that’s what political networks analyse: how everyone as a society is interdependent to attempt to make good decisions for the benefit of the nation. It also examines the individual influences we have. The structural changes occurring in socio-political systems do play a major role in displaying networks that existed then and now, and how are they going to look like soon.  "
   ]
  },
  {
   "cell_type": "markdown",
   "metadata": {},
   "source": [
    "![](Image3.png)\n",
    "![](Image4.png)\n",
    "Figure 3 (Brito, 2020) "
   ]
  },
  {
   "cell_type": "markdown",
   "metadata": {},
   "source": [
    "#### Signalling model  "
   ]
  },
  {
   "cell_type": "markdown",
   "metadata": {},
   "source": [
    "The elections have a drastic impact on a national and global scale and with the signalling model analysts have been able to analysis a voter's action and body language. Citizens focus on voting for people who are eligible for participation and focus on the crucial role of signalling. Signalling model reveals to actions that has always relate to a part of human nature and creates a strong charisma to convince other people to make their decisions. Signalling models bring many advantages by helping candidates negotiate the theory of political issues between countries, economic and nonzero-sum interactions with people while organising elections. By sending those signals, candidates can communicate their messages to electors, reveal the necessary information, and most importantly gain support. Moreover, using body language also another form of transmission for people with disabilities, such as blind and mute people. The signalling model supports developing an improved theory of politics and showcases particular choices of their presentation. \n",
    "\n",
    "In the US presidential elections, two candidates were using the body language during their debate and show how they could interact people by moving around and using eyes contact. The picture below shows the body language movement while presenting and answering questions with voters"
   ]
  },
  {
   "cell_type": "markdown",
   "metadata": {},
   "source": [
    "![](Image5.png)\n",
    "Figure 4 (The Washington Post, 2016) "
   ]
  },
  {
   "cell_type": "markdown",
   "metadata": {},
   "source": [
    "Moreover, using the signalling model for the next US presidential election is drastically influencing representatives' self-presentations by involving voter's thoughts.   \n",
    "\n",
    "* Define electors' problems: when knowing their situation, candidates can focus on solving and discussing issues based on their actions or theoreticians. \n",
    "\n",
    "* Use of candidates' signals, to determine whether their actions are strong or weak and are being heard by the voter \n",
    "\n",
    "* Offer smart solutions in order to solve political issues and cost reduction. For example, base voting communication on each action's value and separate them into each level to conduct an observation.  \n",
    "\n",
    "* Concentrate in the outcome and tax to set up a plan to provide necessary statistic and statement. Then they can make their presentations more convincing to the voters.   "
   ]
  },
  {
   "cell_type": "markdown",
   "metadata": {},
   "source": [
    "![](Image6.png)\n",
    "Figure 5 (ScienceDirect, 2017) "
   ]
  },
  {
   "cell_type": "markdown",
   "metadata": {},
   "source": [
    "#### Bibliography"
   ]
  },
  {
   "cell_type": "markdown",
   "metadata": {},
   "source": [
    " \n",
    "\n",
    "Ana Caroline Medeiros Brito, F. N. (2020). A complex network approach to political analysis: Application to the Brazilian Chamber of Deputies. PLOS One, 1. https://journals.plos.org/plosone/article?id=10.1371/journal.pone.0229928 \n",
    "\n",
    " \n",
    "\n",
    "Federal Election Commission United Staes of America. (2020). Election and voting  \n",
    "\n",
    "information. \n",
    "\n",
    "https://www.fec.gov/introduction-campaign-finance/election-and-voting-information/ \n",
    "\n",
    " \n",
    "\n",
    "Joseph, M. (2017). Voting as communication: Mandates, multiple candidates, and the  \n",
    "\n",
    "signaling voter’s curse. ScienceDirect. \n",
    "\n",
    "https://www.sciencedirect.com/science/article/abs/pii/S0899825616301464 \n",
    "\n",
    " \n",
    "\n",
    "Kevin, U., & Lazaro, G. (2016). What two body language experts saw at the second  \n",
    "\n",
    "presidential debate. The Washington Post. \n",
    "\n",
    "https://www.washingtonpost.com/graphics/politics/2016-election/second-debate-body-language/ \n",
    "\n",
    " \n",
    "\n",
    "Miller, G. (2020). The Real Stakeholders in How America Votes.   \n",
    "\n",
    "https://trustthevote.org/blog/2009/02/06/real_stakeholders_how_america_votes/ \n",
    "\n",
    " \n",
    "\n",
    "Michael D. Ward, K. S. (2011). Network Analysis and Political Science. Annual Review of Political Science,22. http://www.casos.cs.cmu.edu/events/summer_institute/2017/reading_list/pubs/2011Ward.pdf  \n",
    "\n",
    " \n",
    "\n",
    "Penn State University Libraries. (2020). Library Guides: Post-Election 2016 Recap &  \n",
    "\n",
    "Resources: Voter Turnout.  \n",
    "\n",
    "https://guides.libraries.psu.edu/post-election-2016/voter-turnout \n",
    "\n",
    " \n",
    "\n",
    "POLYAS. (2020). Election Administration: Involve Stakeholders. \n",
    "\n",
    " https://www.polyas.com/election-administration/stakeholder  \n",
    "\n",
    " \n",
    "\n",
    "Robin, H. (2009). Political signaling theories. Overcoming Bias.        \n",
    "\n",
    "https://www.overcomingbias.com/2009/05/political-signaling-theories.html \n",
    "\n",
    " \n",
    "\n",
    "Sandström, A. (2008). Policy Networks: The relation between structure and performance. Doctoral Thesis from the Luleå University of Technology, Division of Political Science, 254. https://www.diva-portal.org/smash/get/diva2:989924/FULLTEXT01.pdf \n",
    "\n",
    " \n",
    "\n",
    "Savage, J.D (2001). Budgeting: Political Science Aspects. ScienceDirect. \n",
    "\n",
    "https://www.sciencedirect.com/science/article/pii/B0080430767011013 \n",
    "\n",
    " \n",
    "\n",
    "Statista. (2016). Exit polls of the 2016 presidential elections \n",
    "\n",
    "https://www.statista.com/statistics/631231/voter-turnout-of-the-exit-polls-of-the-2016-elections-by-age/ \n",
    "\n",
    " "
   ]
  },
  {
   "cell_type": "code",
   "execution_count": null,
   "metadata": {},
   "outputs": [],
   "source": []
  }
 ],
 "metadata": {
  "kernelspec": {
   "display_name": "Python 3",
   "language": "python",
   "name": "python3"
  },
  "language_info": {
   "codemirror_mode": {
    "name": "ipython",
    "version": 3
   },
   "file_extension": ".py",
   "mimetype": "text/x-python",
   "name": "python",
   "nbconvert_exporter": "python",
   "pygments_lexer": "ipython3",
   "version": "3.7.3"
  }
 },
 "nbformat": 4,
 "nbformat_minor": 2
}
